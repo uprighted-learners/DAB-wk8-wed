{
 "cells": [
  {
   "cell_type": "code",
   "execution_count": 15,
   "id": "22b90812-00d9-42f9-b508-2ea533fefffa",
   "metadata": {
    "jupyter": {
     "source_hidden": true
    }
   },
   "outputs": [],
   "source": [
    "import pandas as pd\n"
   ]
  },
  {
   "cell_type": "code",
   "execution_count": 18,
   "id": "4e9fceb2-74cb-4870-9d03-97bbf4e036e9",
   "metadata": {},
   "outputs": [],
   "source": [
    "# Part 1: Data Exploration\n",
    "# 1. Load the dataset\n",
    "df = pd.read_csv('Documents/customer_orders.csv')"
   ]
  },
  {
   "cell_type": "code",
   "execution_count": 19,
   "id": "c61cfb79-c90f-4f5e-875e-cca6ee694449",
   "metadata": {},
   "outputs": [
    {
     "name": "stdout",
     "output_type": "stream",
     "text": [
      "First 5 rows of the dataset:\n",
      "  customer_id             name                       email   age     location  \\\n",
      "0    CUST0001       John Smith        john.smith@gmail.com  32.0     New York   \n",
      "1    CUST0002     Mary Johnson      mary.johnson@yahoo.com   NaN  Los Angeles   \n",
      "2    CUST0003  Robert Williams      r.williams@hotmail.com  45.0      Chicago   \n",
      "3    CUST0004   jennifer Brown  jennifer.brown@outlook.com  29.0          NYC   \n",
      "4    CUST0005   MICHAEL Garcia    michael.garcia@gmail.com  68.0      Houston   \n",
      "\n",
      "    join_date last_purchase_date  order_total  items_purchased  \\\n",
      "0  2023-06-15         06/20/2024        85.99              3.0   \n",
      "1  2023-08-22         09/15/2024        64.50              2.0   \n",
      "2  2022-11-30         01/22/2025       125.75              5.0   \n",
      "3  2024-01-18                NaN          NaN              NaN   \n",
      "4  2023-04-07         05/30/2024        42.99              2.0   \n",
      "\n",
      "  preferred_category  \n",
      "0        Electronics  \n",
      "1           Clothing  \n",
      "2              Books  \n",
      "3             Beauty  \n",
      "4     home & kitchen  \n",
      "\n",
      "Dataset information:\n",
      "<class 'pandas.core.frame.DataFrame'>\n",
      "RangeIndex: 106 entries, 0 to 105\n",
      "Data columns (total 10 columns):\n",
      " #   Column              Non-Null Count  Dtype  \n",
      "---  ------              --------------  -----  \n",
      " 0   customer_id         106 non-null    object \n",
      " 1   name                106 non-null    object \n",
      " 2   email               106 non-null    object \n",
      " 3   age                 93 non-null     float64\n",
      " 4   location            106 non-null    object \n",
      " 5   join_date           106 non-null    object \n",
      " 6   last_purchase_date  98 non-null     object \n",
      " 7   order_total         98 non-null     float64\n",
      " 8   items_purchased     98 non-null     float64\n",
      " 9   preferred_category  103 non-null    object \n",
      "dtypes: float64(3), object(7)\n",
      "memory usage: 8.4+ KB\n",
      "None\n",
      "\n",
      "Summary statistics:\n",
      "             age  order_total  items_purchased\n",
      "count  93.000000    98.000000        98.000000\n",
      "mean   42.150538   119.419490         4.142857\n",
      "std     8.713990   172.125578         3.945505\n",
      "min    27.000000     0.990000         1.000000\n",
      "25%    35.000000    64.500000         3.000000\n",
      "50%    41.000000    77.000000         3.000000\n",
      "75%    49.000000    93.062500         4.000000\n",
      "max    68.000000   999.990000        25.000000\n"
     ]
    }
   ],
   "source": [
    "# 2. Examine the data\n",
    "print(\"First 5 rows of the dataset:\")\n",
    "print(df.head())\n",
    "\n",
    "print(\"\\nDataset information:\")\n",
    "print(df.info())\n",
    "\n",
    "print(\"\\nSummary statistics:\")\n",
    "print(df.describe())\n"
   ]
  },
  {
   "cell_type": "code",
   "execution_count": 20,
   "id": "7eb32ef8-2f7b-4867-83a5-8e5ed543dfdd",
   "metadata": {},
   "outputs": [
    {
     "name": "stdout",
     "output_type": "stream",
     "text": [
      "\n",
      "Total rows: 106\n",
      "Total columns: 10\n"
     ]
    }
   ],
   "source": [
    "# 3. Report rows and columns\n",
    "print(f\"\\nTotal rows: {df.shape[0]}\")\n",
    "print(f\"Total columns: {df.shape[1]}\")\n"
   ]
  },
  {
   "cell_type": "code",
   "execution_count": 21,
   "id": "f1d9a991-8f70-4493-be77-c4c0ca0d3eb0",
   "metadata": {},
   "outputs": [
    {
     "name": "stdout",
     "output_type": "stream",
     "text": [
      "\n",
      "Data types for each column:\n",
      "customer_id            object\n",
      "name                   object\n",
      "email                  object\n",
      "age                   float64\n",
      "location               object\n",
      "join_date              object\n",
      "last_purchase_date     object\n",
      "order_total           float64\n",
      "items_purchased       float64\n",
      "preferred_category     object\n",
      "dtype: object\n"
     ]
    }
   ],
   "source": [
    "# 4. Identify data types\n",
    "print(\"\\nData types for each column:\")\n",
    "print(df.dtypes)"
   ]
  },
  {
   "cell_type": "code",
   "execution_count": 22,
   "id": "d14691cf-a6f0-4910-956f-484428bfb16e",
   "metadata": {},
   "outputs": [
    {
     "name": "stdout",
     "output_type": "stream",
     "text": [
      "\n",
      "Missing values count:\n",
      "customer_id            0\n",
      "name                   0\n",
      "email                  0\n",
      "age                   13\n",
      "location               0\n",
      "join_date              0\n",
      "last_purchase_date     8\n",
      "order_total            8\n",
      "items_purchased        8\n",
      "preferred_category     3\n",
      "dtype: int64\n"
     ]
    }
   ],
   "source": [
    "# Part 2: Handling Missing Values\n",
    "# 1. Check for missing values\n",
    "print(\"\\nMissing values count:\")\n",
    "print(df.isnull().sum())\n",
    "# Create a copy of the dataframe for cleaning\n",
    "df_clean = df.copy()\n",
    "\n"
   ]
  },
  {
   "cell_type": "code",
   "execution_count": 23,
   "id": "c709dad7-45f1-4153-9b0e-d7e237fff9cc",
   "metadata": {},
   "outputs": [
    {
     "name": "stdout",
     "output_type": "stream",
     "text": [
      "\n",
      "Median age used for imputation: 41.0\n"
     ]
    }
   ],
   "source": [
    "# 2. Fill missing ages with the median age\n",
    "median_age = df_clean['age'].median()\n",
    "df_clean['age'] = df_clean['age'].fillna(median_age)\n",
    "print(f\"\\nMedian age used for imputation: {median_age}\")"
   ]
  },
  {
   "cell_type": "code",
   "execution_count": 24,
   "id": "a67d6261-86b2-481c-9334-6930ea9f235c",
   "metadata": {},
   "outputs": [],
   "source": [
    "# 3. Fill missing last_purchase_date with join_date\n",
    "# For rows with missing last_purchase_date, use join_date (without date conversion)\n",
    "mask = df_clean['last_purchase_date'].isna()\n",
    "df_clean.loc[mask, 'last_purchase_date'] = df_clean.loc[mask, 'join_date']"
   ]
  },
  {
   "cell_type": "code",
   "execution_count": 25,
   "id": "72e4b899-36f8-4fdb-98c2-8ee6798336c9",
   "metadata": {},
   "outputs": [],
   "source": [
    "# 4. Fill missing order_total with 0\n",
    "df_clean['order_total'] = df_clean['order_total'].fillna(0)\n",
    "\n",
    "# Fill missing items_purchased with 0 (consistent with order_total = 0)\n",
    "df_clean['items_purchased'] = df_clean['items_purchased'].fillna(0)\n"
   ]
  },
  {
   "cell_type": "code",
   "execution_count": 26,
   "id": "fcf9b507-b25a-43bc-9824-649b2933c9be",
   "metadata": {},
   "outputs": [],
   "source": [
    "# 5. Fill missing preferred_category with \"Unknown\"\n",
    "df_clean['preferred_category'] = df_clean['preferred_category'].fillna(\"Unknown\")\n"
   ]
  },
  {
   "cell_type": "code",
   "execution_count": 27,
   "id": "96c4834b-6104-4e04-9c86-32f579a31232",
   "metadata": {},
   "outputs": [
    {
     "name": "stdout",
     "output_type": "stream",
     "text": [
      "\n",
      "Missing values after imputation:\n",
      "customer_id           0\n",
      "name                  0\n",
      "email                 0\n",
      "age                   0\n",
      "location              0\n",
      "join_date             0\n",
      "last_purchase_date    0\n",
      "order_total           0\n",
      "items_purchased       0\n",
      "preferred_category    0\n",
      "dtype: int64\n"
     ]
    }
   ],
   "source": [
    "# Check missing values again to verify\n",
    "print(\"\\nMissing values after imputation:\")\n",
    "print(df_clean.isnull().sum())"
   ]
  },
  {
   "cell_type": "code",
   "execution_count": 28,
   "id": "04c4b243-7f1f-4832-b388-5d65e7377dbb",
   "metadata": {},
   "outputs": [
    {
     "name": "stdout",
     "output_type": "stream",
     "text": [
      "\n",
      "Number of duplicate rows: 3\n"
     ]
    }
   ],
   "source": [
    "# Part 3: Removing Duplicates\n",
    "# 1. Check for duplicate rows\n",
    "duplicate_rows = df_clean.duplicated().sum()\n",
    "print(f\"\\nNumber of duplicate rows: {duplicate_rows}\")"
   ]
  },
  {
   "cell_type": "code",
   "execution_count": 29,
   "id": "ff9b9825-7560-49d1-9ea4-ce9ee2f3c542",
   "metadata": {},
   "outputs": [
    {
     "name": "stdout",
     "output_type": "stream",
     "text": [
      "Number of duplicate customer IDs: 6\n"
     ]
    }
   ],
   "source": [
    "# 2. Check for duplicate customer IDs\n",
    "duplicate_ids = df_clean['customer_id'].duplicated().sum()\n",
    "print(f\"Number of duplicate customer IDs: {duplicate_ids}\")"
   ]
  },
  {
   "cell_type": "code",
   "execution_count": 30,
   "id": "fa3c4d3e-eeae-4316-8644-260d94f3ebca",
   "metadata": {},
   "outputs": [],
   "source": [
    "# 3. Keep only the row with the most recent purchase date for each customer ID\n",
    "# The naive approach to sorting dates as strings works in this case since they are all in the same format\n",
    "# Note: This would not work correctly if dates had different formats\n",
    "df_clean = df_clean.sort_values(['customer_id', 'last_purchase_date'], ascending=[True, False])\n",
    "\n",
    "# Drop duplicates, keeping the first occurrence (most recent purchase)\n",
    "df_clean = df_clean.drop_duplicates(subset='customer_id', keep='first')"
   ]
  },
  {
   "cell_type": "code",
   "execution_count": 31,
   "id": "349aa4fb-9300-4054-a8ae-96088c53a128",
   "metadata": {},
   "outputs": [
    {
     "name": "stdout",
     "output_type": "stream",
     "text": [
      "\n",
      "Rows after removing duplicates: 100\n",
      "Duplicate customer IDs after cleaning: 0\n"
     ]
    }
   ],
   "source": [
    "# Verify duplicate removal\n",
    "print(f\"\\nRows after removing duplicates: {len(df_clean)}\")\n",
    "print(f\"Duplicate customer IDs after cleaning: {df_clean['customer_id'].duplicated().sum()}\")\n"
   ]
  },
  {
   "cell_type": "code",
   "execution_count": 32,
   "id": "f27a6cce-bdb3-40dd-98f4-8ec16f0bce7c",
   "metadata": {},
   "outputs": [
    {
     "name": "stdout",
     "output_type": "stream",
     "text": [
      "\n",
      "First 5 rows of cleaned dataset:\n",
      "   customer_id             name                       email   age  \\\n",
      "10    CUST0001       John Smith        john.smith@gmail.com  32.0   \n",
      "1     CUST0002     Mary Johnson      mary.johnson@yahoo.com  41.0   \n",
      "2     CUST0003  Robert Williams      r.williams@hotmail.com  45.0   \n",
      "3     CUST0004   jennifer Brown  jennifer.brown@outlook.com  29.0   \n",
      "4     CUST0005   MICHAEL Garcia    michael.garcia@gmail.com  68.0   \n",
      "\n",
      "       location   join_date last_purchase_date  order_total  items_purchased  \\\n",
      "10     New York  2023-06-15         09/05/2024       110.25              4.0   \n",
      "1   Los Angeles  2023-08-22         09/15/2024        64.50              2.0   \n",
      "2       Chicago  2022-11-30         01/22/2025       125.75              5.0   \n",
      "3           NYC  2024-01-18         2024-01-18         0.00              0.0   \n",
      "4       Houston  2023-04-07         05/30/2024        42.99              2.0   \n",
      "\n",
      "   preferred_category  \n",
      "10        Electronics  \n",
      "1            Clothing  \n",
      "2               Books  \n",
      "3              Beauty  \n",
      "4      home & kitchen  \n"
     ]
    }
   ],
   "source": [
    "# Display the first few rows of the cleaned dataset\n",
    "print(\"\\nFirst 5 rows of cleaned dataset:\")\n",
    "print(df_clean.head())"
   ]
  },
  {
   "cell_type": "code",
   "execution_count": null,
   "id": "7dfffe45-f741-496a-be7f-dfcb412c9bb2",
   "metadata": {},
   "outputs": [],
   "source": []
  }
 ],
 "metadata": {
  "kernelspec": {
   "display_name": "Python [conda env:base] *",
   "language": "python",
   "name": "conda-base-py"
  },
  "language_info": {
   "codemirror_mode": {
    "name": "ipython",
    "version": 3
   },
   "file_extension": ".py",
   "mimetype": "text/x-python",
   "name": "python",
   "nbconvert_exporter": "python",
   "pygments_lexer": "ipython3",
   "version": "3.12.7"
  }
 },
 "nbformat": 4,
 "nbformat_minor": 5
}
