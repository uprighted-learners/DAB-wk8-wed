{
 "cells": [
  {
   "cell_type": "code",
   "execution_count": 15,
   "id": "22b90812-00d9-42f9-b508-2ea533fefffa",
   "metadata": {
    "jupyter": {
     "source_hidden": true
    }
   },
   "outputs": [],
   "source": [
    "import pandas as pd\n"
   ]
  },
  {
   "cell_type": "code",
   "execution_count": 18,
   "id": "4e9fceb2-74cb-4870-9d03-97bbf4e036e9",
   "metadata": {},
   "outputs": [],
   "source": [
    "# Part 1: Data Exploration\n",
    "# 1. Load the dataset\n",
    "df = pd.read_csv('')"
   ]
  },
  {
   "cell_type": "code",
   "execution_count": 1,
   "id": "c61cfb79-c90f-4f5e-875e-cca6ee694449",
   "metadata": {},
   "outputs": [
    {
     "name": "stdout",
     "output_type": "stream",
     "text": [
      "First 5 rows of the dataset:\n",
      "\n",
      "Dataset information:\n",
      "\n",
      "Summary statistics:\n"
     ]
    }
   ],
   "source": [
    "# 2. Examine the data\n",
    "print(\"First 5 rows of the dataset:\")\n",
    "\n",
    "\n",
    "print(\"\\nDataset information:\")\n",
    "\n",
    "\n",
    "print(\"\\nSummary statistics:\")\n",
    "\n"
   ]
  },
  {
   "cell_type": "code",
   "execution_count": 20,
   "id": "7eb32ef8-2f7b-4867-83a5-8e5ed543dfdd",
   "metadata": {},
   "outputs": [
    {
     "name": "stdout",
     "output_type": "stream",
     "text": [
      "\n",
      "Total rows: 106\n",
      "Total columns: 10\n"
     ]
    }
   ],
   "source": [
    "# 3. Report rows and columns\n",
    "print(\"Total rows:\")\n",
    "# Your code here for total rows\n",
    "print(\"Total columns:\")\n",
    "# Your code here for total columns"
   ]
  },
  {
   "cell_type": "code",
   "execution_count": 21,
   "id": "f1d9a991-8f70-4493-be77-c4c0ca0d3eb0",
   "metadata": {},
   "outputs": [
    {
     "name": "stdout",
     "output_type": "stream",
     "text": [
      "\n",
      "Data types for each column:\n",
      "customer_id            object\n",
      "name                   object\n",
      "email                  object\n",
      "age                   float64\n",
      "location               object\n",
      "join_date              object\n",
      "last_purchase_date     object\n",
      "order_total           float64\n",
      "items_purchased       float64\n",
      "preferred_category     object\n",
      "dtype: object\n"
     ]
    }
   ],
   "source": [
    "# 4. Identify data types\n",
    "print(\"\\nData types for each column:\")\n"
   ]
  },
  {
   "cell_type": "code",
   "execution_count": 22,
   "id": "d14691cf-a6f0-4910-956f-484428bfb16e",
   "metadata": {},
   "outputs": [
    {
     "name": "stdout",
     "output_type": "stream",
     "text": [
      "\n",
      "Missing values count:\n",
      "customer_id            0\n",
      "name                   0\n",
      "email                  0\n",
      "age                   13\n",
      "location               0\n",
      "join_date              0\n",
      "last_purchase_date     8\n",
      "order_total            8\n",
      "items_purchased        8\n",
      "preferred_category     3\n",
      "dtype: int64\n"
     ]
    }
   ],
   "source": [
    "# Part 2: Handling Missing Values\n",
    "# 1. Check for missing values\n",
    "print(\"\\nMissing values count:\")\n",
    "\n",
    "# Create a copy of the dataframe for cleaning\n",
    "\n",
    "\n"
   ]
  },
  {
   "cell_type": "code",
   "execution_count": 23,
   "id": "c709dad7-45f1-4153-9b0e-d7e237fff9cc",
   "metadata": {},
   "outputs": [
    {
     "name": "stdout",
     "output_type": "stream",
     "text": [
      "\n",
      "Median age used for imputation: 41.0\n"
     ]
    }
   ],
   "source": [
    "# 2. Fill missing ages with the median age\n",
    "# Your code here \n",
    "print(f\"\\nMedian age used for imputation: {median_age}\")"
   ]
  },
  {
   "cell_type": "code",
   "execution_count": 25,
   "id": "72e4b899-36f8-4fdb-98c2-8ee6798336c9",
   "metadata": {},
   "outputs": [],
   "source": [
    "# 4. Fill missing order_total with 0\n",
    "\n",
    "\n",
    "# Fill missing items_purchased with 0 (consistent with order_total = 0)\n",
    "\n"
   ]
  },
  {
   "cell_type": "code",
   "execution_count": 26,
   "id": "fcf9b507-b25a-43bc-9824-649b2933c9be",
   "metadata": {},
   "outputs": [],
   "source": [
    "# 5. Fill missing preferred_category with \"Unknown\"\n",
    "\n"
   ]
  },
  {
   "cell_type": "code",
   "execution_count": 27,
   "id": "96c4834b-6104-4e04-9c86-32f579a31232",
   "metadata": {},
   "outputs": [
    {
     "name": "stdout",
     "output_type": "stream",
     "text": [
      "\n",
      "Missing values after imputation:\n",
      "customer_id           0\n",
      "name                  0\n",
      "email                 0\n",
      "age                   0\n",
      "location              0\n",
      "join_date             0\n",
      "last_purchase_date    0\n",
      "order_total           0\n",
      "items_purchased       0\n",
      "preferred_category    0\n",
      "dtype: int64\n"
     ]
    }
   ],
   "source": [
    "# Check missing values again to verify\n",
    "print(\"\\nMissing values after imputation:\")\n"
   ]
  },
  {
   "cell_type": "code",
   "execution_count": 28,
   "id": "04c4b243-7f1f-4832-b388-5d65e7377dbb",
   "metadata": {},
   "outputs": [
    {
     "name": "stdout",
     "output_type": "stream",
     "text": [
      "\n",
      "Number of duplicate rows: 3\n"
     ]
    }
   ],
   "source": [
    "# Part 3: Removing Duplicates\n",
    "# 1. Check for duplicate rows\n",
    "# Your code here\n",
    "print(f\"\\nNumber of duplicate rows: {duplicate_rows}\")"
   ]
  },
  {
   "cell_type": "code",
   "execution_count": 29,
   "id": "ff9b9825-7560-49d1-9ea4-ce9ee2f3c542",
   "metadata": {},
   "outputs": [
    {
     "name": "stdout",
     "output_type": "stream",
     "text": [
      "Number of duplicate customer IDs: 6\n"
     ]
    }
   ],
   "source": [
    "# 2. Check for duplicate customer IDs\n",
    "# Your code here\n",
    "print(f\"Number of duplicate customer IDs: {duplicate_ids}\")"
   ]
  },
  {
   "cell_type": "code",
   "execution_count": 30,
   "id": "fa3c4d3e-eeae-4316-8644-260d94f3ebca",
   "metadata": {},
   "outputs": [],
   "source": [
    "# 3. Drop duplicates, keeping the first occurrence (most recent purchase)\n",
    "df_clean = df_clean.drop_duplicates(subset='customer_id', keep='first')"
   ]
  },
  {
   "cell_type": "code",
   "execution_count": 31,
   "id": "349aa4fb-9300-4054-a8ae-96088c53a128",
   "metadata": {},
   "outputs": [
    {
     "name": "stdout",
     "output_type": "stream",
     "text": [
      "\n",
      "Rows after removing duplicates: 100\n",
      "Duplicate customer IDs after cleaning: 0\n"
     ]
    }
   ],
   "source": [
    "# Verify duplicate removal\n",
    "\n"
   ]
  },
  {
   "cell_type": "code",
   "execution_count": 32,
   "id": "f27a6cce-bdb3-40dd-98f4-8ec16f0bce7c",
   "metadata": {},
   "outputs": [
    {
     "name": "stdout",
     "output_type": "stream",
     "text": [
      "\n",
      "First 5 rows of cleaned dataset:\n",
      "   customer_id             name                       email   age  \\\n",
      "10    CUST0001       John Smith        john.smith@gmail.com  32.0   \n",
      "1     CUST0002     Mary Johnson      mary.johnson@yahoo.com  41.0   \n",
      "2     CUST0003  Robert Williams      r.williams@hotmail.com  45.0   \n",
      "3     CUST0004   jennifer Brown  jennifer.brown@outlook.com  29.0   \n",
      "4     CUST0005   MICHAEL Garcia    michael.garcia@gmail.com  68.0   \n",
      "\n",
      "       location   join_date last_purchase_date  order_total  items_purchased  \\\n",
      "10     New York  2023-06-15         09/05/2024       110.25              4.0   \n",
      "1   Los Angeles  2023-08-22         09/15/2024        64.50              2.0   \n",
      "2       Chicago  2022-11-30         01/22/2025       125.75              5.0   \n",
      "3           NYC  2024-01-18         2024-01-18         0.00              0.0   \n",
      "4       Houston  2023-04-07         05/30/2024        42.99              2.0   \n",
      "\n",
      "   preferred_category  \n",
      "10        Electronics  \n",
      "1            Clothing  \n",
      "2               Books  \n",
      "3              Beauty  \n",
      "4      home & kitchen  \n"
     ]
    }
   ],
   "source": [
    "# Display the first few rows of the cleaned dataset\n",
    "print(\"\\nFirst 5 rows of cleaned dataset:\")\n"
   ]
  },
  {
   "cell_type": "code",
   "execution_count": null,
   "id": "7dfffe45-f741-496a-be7f-dfcb412c9bb2",
   "metadata": {},
   "outputs": [],
   "source": []
  }
 ],
 "metadata": {
  "kernelspec": {
   "display_name": "Python [conda env:base] *",
   "language": "python",
   "name": "conda-base-py"
  },
  "language_info": {
   "codemirror_mode": {
    "name": "ipython",
    "version": 3
   },
   "file_extension": ".py",
   "mimetype": "text/x-python",
   "name": "python",
   "nbconvert_exporter": "python",
   "pygments_lexer": "ipython3",
   "version": "3.12.7"
  }
 },
 "nbformat": 4,
 "nbformat_minor": 5
}
